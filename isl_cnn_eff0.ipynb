{
  "nbformat": 4,
  "nbformat_minor": 5,
  "metadata": {
    "accelerator": "GPU",
    "colab": {
      "provenance": []
    },
    "kernelspec": {
      "display_name": "Python [conda env:torch] *",
      "language": "python",
      "name": "conda-env-torch-py"
    },
    "language_info": {
      "codemirror_mode": {
        "name": "ipython",
        "version": 3
      },
      "file_extension": ".py",
      "mimetype": "text/x-python",
      "name": "python",
      "nbconvert_exporter": "python",
      "pygments_lexer": "ipython3",
      "version": "3.8.8"
    },
    "widgets": {
      "application/vnd.jupyter.widget-state+json": {
        "d49729d3cb7843feb4428c7288c870f3": {
          "model_module": "@jupyter-widgets/controls",
          "model_name": "HBoxModel",
          "model_module_version": "1.5.0",
          "state": {
            "_dom_classes": [],
            "_model_module": "@jupyter-widgets/controls",
            "_model_module_version": "1.5.0",
            "_model_name": "HBoxModel",
            "_view_count": null,
            "_view_module": "@jupyter-widgets/controls",
            "_view_module_version": "1.5.0",
            "_view_name": "HBoxView",
            "box_style": "",
            "children": [
              "IPY_MODEL_1d42f76ce3dc4a2eb2f28ca9b6f8191c",
              "IPY_MODEL_4b7eb6b2622e47b3a16fbea2ddeadfd7"
            ],
            "layout": "IPY_MODEL_e98b6736a7de4023b833bc437d79be14"
          }
        },
        "1d42f76ce3dc4a2eb2f28ca9b6f8191c": {
          "model_module": "@jupyter-widgets/controls",
          "model_name": "FloatProgressModel",
          "model_module_version": "1.5.0",
          "state": {
            "_dom_classes": [],
            "_model_module": "@jupyter-widgets/controls",
            "_model_module_version": "1.5.0",
            "_model_name": "FloatProgressModel",
            "_view_count": null,
            "_view_module": "@jupyter-widgets/controls",
            "_view_module_version": "1.5.0",
            "_view_name": "ProgressView",
            "bar_style": "",
            "description": " 62%",
            "description_tooltip": null,
            "layout": "IPY_MODEL_a878518d3e7145fe83e16caa0be9a901",
            "max": 590,
            "min": 0,
            "orientation": "horizontal",
            "style": "IPY_MODEL_71b8c8d7cdbf4a648ea758a0b548146d",
            "value": 366
          }
        },
        "4b7eb6b2622e47b3a16fbea2ddeadfd7": {
          "model_module": "@jupyter-widgets/controls",
          "model_name": "HTMLModel",
          "model_module_version": "1.5.0",
          "state": {
            "_dom_classes": [],
            "_model_module": "@jupyter-widgets/controls",
            "_model_module_version": "1.5.0",
            "_model_name": "HTMLModel",
            "_view_count": null,
            "_view_module": "@jupyter-widgets/controls",
            "_view_module_version": "1.5.0",
            "_view_name": "HTMLView",
            "description": "",
            "description_tooltip": null,
            "layout": "IPY_MODEL_0ef618a1d39e4c2484c56feafabcf786",
            "placeholder": "​",
            "style": "IPY_MODEL_64ea9d0b233c434b8136c8e36c0e2089",
            "value": " 366/590 [08:22&lt;05:07,  1.37s/it, Avg_Train_Acc=0.823, Avg_Train_Loss=1.6, Current_Train_Acc=0.906, Current_Train_Loss=0.492, Epoch=0, LR=3e-5]"
          }
        },
        "e98b6736a7de4023b833bc437d79be14": {
          "model_module": "@jupyter-widgets/base",
          "model_name": "LayoutModel",
          "model_module_version": "1.2.0",
          "state": {
            "_model_module": "@jupyter-widgets/base",
            "_model_module_version": "1.2.0",
            "_model_name": "LayoutModel",
            "_view_count": null,
            "_view_module": "@jupyter-widgets/base",
            "_view_module_version": "1.2.0",
            "_view_name": "LayoutView",
            "align_content": null,
            "align_items": null,
            "align_self": null,
            "border": null,
            "bottom": null,
            "display": null,
            "flex": null,
            "flex_flow": null,
            "grid_area": null,
            "grid_auto_columns": null,
            "grid_auto_flow": null,
            "grid_auto_rows": null,
            "grid_column": null,
            "grid_gap": null,
            "grid_row": null,
            "grid_template_areas": null,
            "grid_template_columns": null,
            "grid_template_rows": null,
            "height": null,
            "justify_content": null,
            "justify_items": null,
            "left": null,
            "margin": null,
            "max_height": null,
            "max_width": null,
            "min_height": null,
            "min_width": null,
            "object_fit": null,
            "object_position": null,
            "order": null,
            "overflow": null,
            "overflow_x": null,
            "overflow_y": null,
            "padding": null,
            "right": null,
            "top": null,
            "visibility": null,
            "width": null
          }
        },
        "a878518d3e7145fe83e16caa0be9a901": {
          "model_module": "@jupyter-widgets/base",
          "model_name": "LayoutModel",
          "model_module_version": "1.2.0",
          "state": {
            "_model_module": "@jupyter-widgets/base",
            "_model_module_version": "1.2.0",
            "_model_name": "LayoutModel",
            "_view_count": null,
            "_view_module": "@jupyter-widgets/base",
            "_view_module_version": "1.2.0",
            "_view_name": "LayoutView",
            "align_content": null,
            "align_items": null,
            "align_self": null,
            "border": null,
            "bottom": null,
            "display": null,
            "flex": null,
            "flex_flow": null,
            "grid_area": null,
            "grid_auto_columns": null,
            "grid_auto_flow": null,
            "grid_auto_rows": null,
            "grid_column": null,
            "grid_gap": null,
            "grid_row": null,
            "grid_template_areas": null,
            "grid_template_columns": null,
            "grid_template_rows": null,
            "height": null,
            "justify_content": null,
            "justify_items": null,
            "left": null,
            "margin": null,
            "max_height": null,
            "max_width": null,
            "min_height": null,
            "min_width": null,
            "object_fit": null,
            "object_position": null,
            "order": null,
            "overflow": null,
            "overflow_x": null,
            "overflow_y": null,
            "padding": null,
            "right": null,
            "top": null,
            "visibility": null,
            "width": null
          }
        },
        "71b8c8d7cdbf4a648ea758a0b548146d": {
          "model_module": "@jupyter-widgets/controls",
          "model_name": "ProgressStyleModel",
          "model_module_version": "1.5.0",
          "state": {
            "_model_module": "@jupyter-widgets/controls",
            "_model_module_version": "1.5.0",
            "_model_name": "ProgressStyleModel",
            "_view_count": null,
            "_view_module": "@jupyter-widgets/base",
            "_view_module_version": "1.2.0",
            "_view_name": "StyleView",
            "bar_color": null,
            "description_width": "initial"
          }
        },
        "0ef618a1d39e4c2484c56feafabcf786": {
          "model_module": "@jupyter-widgets/base",
          "model_name": "LayoutModel",
          "model_module_version": "1.2.0",
          "state": {
            "_model_module": "@jupyter-widgets/base",
            "_model_module_version": "1.2.0",
            "_model_name": "LayoutModel",
            "_view_count": null,
            "_view_module": "@jupyter-widgets/base",
            "_view_module_version": "1.2.0",
            "_view_name": "LayoutView",
            "align_content": null,
            "align_items": null,
            "align_self": null,
            "border": null,
            "bottom": null,
            "display": null,
            "flex": null,
            "flex_flow": null,
            "grid_area": null,
            "grid_auto_columns": null,
            "grid_auto_flow": null,
            "grid_auto_rows": null,
            "grid_column": null,
            "grid_gap": null,
            "grid_row": null,
            "grid_template_areas": null,
            "grid_template_columns": null,
            "grid_template_rows": null,
            "height": null,
            "justify_content": null,
            "justify_items": null,
            "left": null,
            "margin": null,
            "max_height": null,
            "max_width": null,
            "min_height": null,
            "min_width": null,
            "object_fit": null,
            "object_position": null,
            "order": null,
            "overflow": null,
            "overflow_x": null,
            "overflow_y": null,
            "padding": null,
            "right": null,
            "top": null,
            "visibility": null,
            "width": null
          }
        },
        "64ea9d0b233c434b8136c8e36c0e2089": {
          "model_module": "@jupyter-widgets/controls",
          "model_name": "DescriptionStyleModel",
          "model_module_version": "1.5.0",
          "state": {
            "_model_module": "@jupyter-widgets/controls",
            "_model_module_version": "1.5.0",
            "_model_name": "DescriptionStyleModel",
            "_view_count": null,
            "_view_module": "@jupyter-widgets/base",
            "_view_module_version": "1.2.0",
            "_view_name": "StyleView",
            "description_width": ""
          }
        }
      }
    }
  },
  "cells": [
    {
      "cell_type": "code",
      "metadata": {
        "colab": {
          "base_uri": "https://localhost:8080/"
        },
        "id": "iBz-U91uZra0",
        "outputId": "682bc00e-4478-44d5-8f15-049aa4ddf696"
      },
      "source": [
        "!pip install efficientnet_pytorch"
      ],
      "id": "iBz-U91uZra0",
      "execution_count": null,
      "outputs": [
        {
          "name": "stdout",
          "output_type": "stream",
          "text": [
            "Collecting efficientnet_pytorch\n",
            "  Downloading https://files.pythonhosted.org/packages/2e/a0/dd40b50aebf0028054b6b35062948da01123d7be38d08b6b1e5435df6363/efficientnet_pytorch-0.7.1.tar.gz\n",
            "Requirement already satisfied: torch in /usr/local/lib/python3.7/dist-packages (from efficientnet_pytorch) (1.8.1+cu101)\n",
            "Requirement already satisfied: numpy in /usr/local/lib/python3.7/dist-packages (from torch->efficientnet_pytorch) (1.19.5)\n",
            "Requirement already satisfied: typing-extensions in /usr/local/lib/python3.7/dist-packages (from torch->efficientnet_pytorch) (3.7.4.3)\n",
            "Building wheels for collected packages: efficientnet-pytorch\n",
            "  Building wheel for efficientnet-pytorch (setup.py) ... \u001b[?25l\u001b[?25hdone\n",
            "  Created wheel for efficientnet-pytorch: filename=efficientnet_pytorch-0.7.1-cp37-none-any.whl size=16443 sha256=10ecbc65154be71d369e55fe25876f765b1b01d89bc07e4c26a5dff9a9739d2b\n",
            "  Stored in directory: /root/.cache/pip/wheels/84/27/aa/c46d23c4e8cc72d41283862b1437e0b3ad318417e8ed7d5921\n",
            "Successfully built efficientnet-pytorch\n",
            "Installing collected packages: efficientnet-pytorch\n",
            "Successfully installed efficientnet-pytorch-0.7.1\n"
          ]
        }
      ]
    },
    {
      "cell_type": "code",
      "metadata": {
        "id": "communist-biotechnology"
      },
      "source": [
        "import os\n",
        "import math\n",
        "import random\n",
        "import pandas as pd\n",
        "import numpy as np\n",
        "\n",
        "import cv2\n",
        "import matplotlib.pyplot as plt\n",
        "%matplotlib inline\n",
        "\n",
        "from tqdm import notebook\n",
        "from tqdm import tqdm\n",
        "\n",
        "from sklearn.model_selection import train_test_split\n",
        "from sklearn import metrics\n",
        "\n",
        "import torch\n",
        "import torch.nn as nn\n",
        "\n",
        "from torch.nn import Parameter\n",
        "from torch.nn import functional as F\n",
        "from torch.utils.data import Dataset,DataLoader\n",
        "from torch.optim import AdamW\n",
        "from torch.optim.lr_scheduler import CosineAnnealingWarmRestarts, CosineAnnealingLR, ReduceLROnPlateau\n",
        "from torch.optim.lr_scheduler import _LRScheduler\n",
        "from torchvision import transforms as T\n",
        "\n",
        "from torch.utils.tensorboard import SummaryWriter\n",
        "from efficientnet_pytorch import EfficientNet\n",
        "\n",
        "device = 'cuda' if torch.cuda.is_available() else 'cpu'"
      ],
      "id": "communist-biotechnology",
      "execution_count": null,
      "outputs": []
    },
    {
      "cell_type": "code",
      "metadata": {
        "colab": {
          "base_uri": "https://localhost:8080/"
        },
        "id": "IikLkIMhZ1tC",
        "outputId": "17d3e73d-fa64-499f-8d8f-d05c0d593dd2"
      },
      "source": [
        "from google.colab import drive\n",
        "drive.mount('/content/drive')"
      ],
      "id": "IikLkIMhZ1tC",
      "execution_count": null,
      "outputs": [
        {
          "name": "stdout",
          "output_type": "stream",
          "text": [
            "Mounted at /content/drive\n"
          ]
        }
      ]
    },
    {
      "cell_type": "code",
      "metadata": {
        "colab": {
          "base_uri": "https://localhost:8080/",
          "height": 35
        },
        "id": "bCOupLv9aAvT",
        "outputId": "da038767-afd4-403c-d3c3-50a55283a025"
      },
      "source": [
        "import shutil\n",
        "shutil.copy('/content/drive/MyDrive/isl/data.zip', '/content/')"
      ],
      "id": "bCOupLv9aAvT",
      "execution_count": null,
      "outputs": [
        {
          "data": {
            "application/vnd.google.colaboratory.intrinsic+json": {
              "type": "string"
            },
            "text/plain": [
              "'/content/data.zip'"
            ]
          },
          "execution_count": 4,
          "metadata": {
            "tags": []
          },
          "output_type": "execute_result"
        }
      ]
    },
    {
      "cell_type": "code",
      "metadata": {
        "id": "bca_Gp7VaAsr"
      },
      "source": [
        "!unzip data.zip"
      ],
      "id": "bca_Gp7VaAsr",
      "execution_count": null,
      "outputs": []
    },
    {
      "cell_type": "code",
      "metadata": {
        "id": "practical-doubt"
      },
      "source": [
        "class configs:\n",
        "    IMAGE_SIZE = 224\n",
        "    NUM_WORKERS = 2\n",
        "    BATCH_SIZE = 32\n",
        "    EPOCHS = 100\n",
        "    SEED = 69\n",
        "    CHECKPOINT = \"/content/drive/MyDrive/isl/data.zip/cnn_eff0_model.pt\"\n",
        "    MODEL_NAME = 'efficientnet-b0'\n",
        "    scheduler_params = {\n",
        "        \"lr_start\": 3e-5,\n",
        "        \"lr_max\": 3e-5 * BATCH_SIZE,\n",
        "        \"lr_min\": 1e-6,\n",
        "        \"lr_ramp_ep\": 5,\n",
        "        \"lr_sus_ep\": 0,\n",
        "        \"lr_decay\": 0.8,\n",
        "    }\n",
        "\n",
        "    model_params = {\n",
        "    'model_name':MODEL_NAME,\n",
        "    'in_channels':3,\n",
        "    'image_size':IMAGE_SIZE,\n",
        "    'num_classes':35,\n",
        "    }"
      ],
      "id": "practical-doubt",
      "execution_count": null,
      "outputs": []
    },
    {
      "cell_type": "code",
      "metadata": {
        "id": "compact-surveillance"
      },
      "source": [
        "class AverageMeter(object):\n",
        "    def __init__(self):\n",
        "        self.reset()\n",
        "\n",
        "    def reset(self):\n",
        "        self.val = 0\n",
        "        self.avg = 0\n",
        "        self.sum = 0\n",
        "        self.count = 0\n",
        "\n",
        "    def update(self, val, n=1):\n",
        "        self.val = val\n",
        "        self.sum += val * n\n",
        "        self.count += n\n",
        "        self.avg = self.sum / self.count"
      ],
      "id": "compact-surveillance",
      "execution_count": null,
      "outputs": []
    },
    {
      "cell_type": "code",
      "metadata": {
        "id": "extra-electron"
      },
      "source": [
        "def seed_torch(seed=1):\n",
        "    random.seed(seed)\n",
        "    os.environ['PYTHONHASHSEED'] = str(seed)\n",
        "    np.random.seed(seed)\n",
        "    torch.manual_seed(seed)\n",
        "    torch.cuda.manual_seed(seed)\n",
        "    torch.backends.cudnn.deterministic = True\n",
        "\n",
        "seed_torch(configs.SEED)"
      ],
      "id": "extra-electron",
      "execution_count": null,
      "outputs": []
    },
    {
      "cell_type": "code",
      "metadata": {
        "id": "tutorial-supervision"
      },
      "source": [
        "train_trns = T.Compose([\n",
        "    T.ToPILImage(),\n",
        "    T.Resize(size = (configs.IMAGE_SIZE,configs.IMAGE_SIZE)),\n",
        "    T.RandomHorizontalFlip(p=0.5),\n",
        "    T.ColorJitter(brightness=(0.8,1.2)),\n",
        "    T.RandomAffine(degrees=(-10,10),translate =(0.1,0.1),shear =(-5,5,-5,5),interpolation = T.InterpolationMode.BILINEAR),\n",
        "    T.RandomPerspective(distortion_scale=0.3),\n",
        "    T.ToTensor(),\n",
        "    T.RandomApply([T.Lambda(lambda x : x + (0.1**0.7)*torch.randn(3,configs.IMAGE_SIZE,configs.IMAGE_SIZE))],p=0.08),\n",
        "    T.Normalize((0.485, 0.456, 0.406), (0.229, 0.224, 0.225))\n",
        "])\n",
        "\n",
        "val_trns = T.Compose([\n",
        "    T.ToPILImage(),\n",
        "    T.Resize(size = (configs.IMAGE_SIZE,configs.IMAGE_SIZE)),\n",
        "    T.ToTensor(),\n",
        "    T.Normalize((0.445), (0.269))\n",
        "])"
      ],
      "id": "tutorial-supervision",
      "execution_count": null,
      "outputs": []
    },
    {
      "cell_type": "code",
      "metadata": {
        "id": "XPTIKdgEb7NO"
      },
      "source": [
        "import pathlib,glob,os\n",
        "data_loc = r\"./data\"\n",
        "data_loc = pathlib.Path(data_loc)\n",
        "all_data = list(data_loc.glob('*/*.jpg'))"
      ],
      "id": "XPTIKdgEb7NO",
      "execution_count": null,
      "outputs": []
    },
    {
      "cell_type": "code",
      "metadata": {
        "colab": {
          "base_uri": "https://localhost:8080/"
        },
        "id": "napcV0bAb7LQ",
        "outputId": "085c254b-aa86-445c-8b86-3d657315160c"
      },
      "source": [
        "all_data[0]"
      ],
      "id": "napcV0bAb7LQ",
      "execution_count": null,
      "outputs": [
        {
          "data": {
            "text/plain": [
              "PosixPath('data/9/703.jpg')"
            ]
          },
          "execution_count": 7,
          "metadata": {
            "tags": []
          },
          "output_type": "execute_result"
        }
      ]
    },
    {
      "cell_type": "code",
      "metadata": {
        "colab": {
          "base_uri": "https://localhost:8080/"
        },
        "id": "eE05lJ4lb7Id",
        "outputId": "e467f8f0-d63b-412c-edd6-2ba8edb9ba35"
      },
      "source": [
        "from tqdm import tqdm\n",
        "file = open('cnn_data.txt',\"w+\")\n",
        "file.write('img_loc'+','+'label' + \"\\n\")\n",
        "for i,x in enumerate(tqdm(all_data)):\n",
        "    w = str(x) + \",\" + str(x).split('/')[-2] + \"\\n\"\n",
        "    file.write(w)\n",
        "file.close()"
      ],
      "id": "eE05lJ4lb7Id",
      "execution_count": null,
      "outputs": [
        {
          "name": "stderr",
          "output_type": "stream",
          "text": [
            "100%|██████████| 42000/42000 [00:00<00:00, 228423.64it/s]\n"
          ]
        }
      ]
    },
    {
      "cell_type": "code",
      "metadata": {
        "id": "V4s1d8MPcVgM"
      },
      "source": [
        "df = pd.read_csv('cnn_data.txt')"
      ],
      "id": "V4s1d8MPcVgM",
      "execution_count": null,
      "outputs": []
    },
    {
      "cell_type": "code",
      "metadata": {
        "id": "PgR3JMRKb7GF"
      },
      "source": [
        "from sklearn.preprocessing import LabelEncoder\n",
        "label_encode = LabelEncoder()\n",
        "label_encoded = label_encode.fit_transform(df['label'])\n",
        "df['target'] = label_encoded"
      ],
      "id": "PgR3JMRKb7GF",
      "execution_count": null,
      "outputs": []
    },
    {
      "cell_type": "code",
      "metadata": {
        "id": "38358f03-5461-4eb1-980b-b33c937ff45e"
      },
      "source": [
        "df_train,df_val = train_test_split(df,test_size = 0.1,stratify=df['target'],random_state = configs.SEED)\n",
        "df_train.reset_index(drop=True,inplace=True)\n",
        "df_val.reset_index(drop=True,inplace=True)"
      ],
      "id": "38358f03-5461-4eb1-980b-b33c937ff45e",
      "execution_count": null,
      "outputs": []
    },
    {
      "cell_type": "code",
      "metadata": {
        "colab": {
          "base_uri": "https://localhost:8080/"
        },
        "id": "e693548d-2141-4b62-913c-56bce2d8e915",
        "outputId": "cb4eb4d0-d42a-46c9-b3a8-b63a13b917c2"
      },
      "source": [
        "df_train.shape,df_val.shape"
      ],
      "id": "e693548d-2141-4b62-913c-56bce2d8e915",
      "execution_count": null,
      "outputs": [
        {
          "data": {
            "text/plain": [
              "((37800, 3), (4200, 3))"
            ]
          },
          "execution_count": 12,
          "metadata": {
            "tags": []
          },
          "output_type": "execute_result"
        }
      ]
    },
    {
      "cell_type": "code",
      "metadata": {
        "id": "fallen-concert"
      },
      "source": [
        "class ASLdata(Dataset):\n",
        "    def __init__(self,df,transform):\n",
        "        self.img_locs = list(df.img_loc)\n",
        "        self.targets = list(df.target)\n",
        "        self.transform = transform\n",
        "    def  __len__(self):\n",
        "        return len(self.targets)\n",
        "    def __getitem__(self,idx):\n",
        "        img_loc = str(self.img_locs[idx])\n",
        "        img = cv2.imread(img_loc)\n",
        "        img = cv2.cvtColor(img,cv2.COLOR_BGR2RGB)\n",
        "        target = self.targets[idx]\n",
        "        return img,target\n",
        "    def collate_fn(self,batch):\n",
        "        imgs,targets = list(zip(*batch))\n",
        "        imgs = [self.transform(img)[None] for img in imgs]\n",
        "        targets = [torch.tensor(x) for x in targets]\n",
        "        imgs = torch.cat(imgs).to(device)\n",
        "        targets = torch.Tensor(targets).long().to(device)\n",
        "        return imgs,targets"
      ],
      "id": "fallen-concert",
      "execution_count": null,
      "outputs": []
    },
    {
      "cell_type": "code",
      "metadata": {
        "id": "XqU3Mu1abZoL"
      },
      "source": [
        "img = cv2.imread(df_train['img_loc'][0])"
      ],
      "id": "XqU3Mu1abZoL",
      "execution_count": null,
      "outputs": []
    },
    {
      "cell_type": "code",
      "metadata": {
        "colab": {
          "base_uri": "https://localhost:8080/",
          "height": 285
        },
        "id": "Bbqap4SBbjpb",
        "outputId": "a1b024f8-3702-46cb-ca6b-201193ef9ff5"
      },
      "source": [
        "plt.imshow(img)"
      ],
      "id": "Bbqap4SBbjpb",
      "execution_count": null,
      "outputs": [
        {
          "data": {
            "text/plain": [
              "<matplotlib.image.AxesImage at 0x7f224f60fe50>"
            ]
          },
          "execution_count": 15,
          "metadata": {
            "tags": []
          },
          "output_type": "execute_result"
        },
        {
          "data": {
            "image/png": "[encoded data removed]",
            "text/plain": [
              "<Figure size 432x288 with 1 Axes>"
            ]
          },
          "metadata": {
            "tags": []
          },
          "output_type": "display_data"
        }
      ]
    },
    {
      "cell_type": "code",
      "metadata": {
        "id": "metallic-sauce"
      },
      "source": [
        "train_ds = ASLdata(df_train,train_trns)\n",
        "train_loader = DataLoader(train_ds, batch_size=configs.BATCH_SIZE, shuffle=True, drop_last=True,collate_fn = train_ds.collate_fn)\n",
        "val_ds = ASLdata(df_val,val_trns)\n",
        "val_loader = DataLoader(val_ds, batch_size=configs.BATCH_SIZE, shuffle=False, drop_last=True,collate_fn = val_ds.collate_fn)\n"
      ],
      "id": "metallic-sauce",
      "execution_count": null,
      "outputs": []
    },
    {
      "cell_type": "code",
      "metadata": {
        "id": "insured-walter"
      },
      "source": [
        "class CNNModel(nn.Module):\n",
        "    def __init__(self,model_name='efficientnet-b0',in_channels=3,image_size=224,num_classes=35):\n",
        "        super(CNNModel,self).__init__()\n",
        "        self.model = EfficientNet.from_pretrained(model_name=model_name,in_channels=in_channels,image_size=image_size,num_classes=num_classes)\n",
        "\n",
        "    def forward(self, images):\n",
        "        return self.model(images)\n",
        "\n",
        "    def get_loss_acc(self, preds, targets):\n",
        "        loss = nn.CrossEntropyLoss()(preds,targets)\n",
        "        preds = torch.argmax(preds,dim=1).cpu().detach().numpy()\n",
        "        targets = targets.cpu().detach().numpy()\n",
        "        acc = metrics.accuracy_score(targets,preds)\n",
        "        return loss,acc\n",
        "\n"
      ],
      "id": "insured-walter",
      "execution_count": null,
      "outputs": []
    },
    {
      "cell_type": "code",
      "metadata": {
        "id": "imported-discharge"
      },
      "source": [
        "class lr_scheduler(_LRScheduler):\n",
        "    def __init__(self, optimizer, lr_start=5e-6, lr_max=1e-5,\n",
        "                 lr_min=1e-6, lr_ramp_ep=5, lr_sus_ep=0, lr_decay=0.8,\n",
        "                 last_epoch=-1):\n",
        "        self.lr_start = lr_start\n",
        "        self.lr_max = lr_max\n",
        "        self.lr_min = lr_min\n",
        "        self.lr_ramp_ep = lr_ramp_ep\n",
        "        self.lr_sus_ep = lr_sus_ep\n",
        "        self.lr_decay = lr_decay\n",
        "        super(lr_scheduler, self).__init__(optimizer, last_epoch)\n",
        "\n",
        "    def get_lr(self):\n",
        "        if not self._get_lr_called_within_step:\n",
        "            warnings.warn(\"To get the last learning rate computed by the scheduler, \"\n",
        "                          \"please use `get_last_lr()`.\", UserWarning)\n",
        "\n",
        "        if self.last_epoch == 0:\n",
        "            self.last_epoch += 1\n",
        "            return [self.lr_start for _ in self.optimizer.param_groups]\n",
        "\n",
        "        lr = self._compute_lr_from_epoch()\n",
        "        self.last_epoch += 1\n",
        "\n",
        "        return [lr for _ in self.optimizer.param_groups]\n",
        "\n",
        "    def _get_closed_form_lr(self):\n",
        "        return self.base_lrs\n",
        "\n",
        "    def _compute_lr_from_epoch(self):\n",
        "        if self.last_epoch < self.lr_ramp_ep:\n",
        "            lr = ((self.lr_max - self.lr_start) /\n",
        "                  self.lr_ramp_ep * self.last_epoch +\n",
        "                  self.lr_start)\n",
        "\n",
        "        elif self.last_epoch < self.lr_ramp_ep + self.lr_sus_ep:\n",
        "            lr = self.lr_max\n",
        "\n",
        "        else:\n",
        "            lr = ((self.lr_max - self.lr_min) * self.lr_decay**\n",
        "                  (self.last_epoch - self.lr_ramp_ep - self.lr_sus_ep) +\n",
        "                  self.lr_min)\n",
        "        return lr"
      ],
      "id": "imported-discharge",
      "execution_count": null,
      "outputs": []
    },
    {
      "cell_type": "code",
      "metadata": {
        "id": "better-zealand"
      },
      "source": [
        "class trainer:\n",
        "    def __init__(self,train_dataloader,val_dataloader,load_checkpoint = False):\n",
        "        if(load_checkpoint):\n",
        "            print(\"Loading pretrained model...\")\n",
        "            self.model = torch.load(configs.CHECKPOINT)\n",
        "        else:\n",
        "            self.model  = CNNModel(**configs.model_params)\n",
        "        no_decay = ['bias','LayerNorm.bias','LayerNorm.weight']\n",
        "        para_optimizer = list(self.model.named_parameters())\n",
        "        self.optimizer_parameters = [\n",
        "        {'params':[p for n,p in para_optimizer if not any(nd in n for nd in no_decay)],'weight_decay':1e-5},\n",
        "        {'params':[p for n,p in para_optimizer if  any(nd in n for nd in no_decay)],'weight_decay':0.0}\n",
        "        ]\n",
        "\n",
        "        self.optimizer = AdamW(amsgrad = True,params = self.optimizer_parameters,lr = 3e-5)\n",
        "        self.lr_scheduler = lr_scheduler(self.optimizer,**configs.scheduler_params)\n",
        "        self.criterion = self.model.get_loss_acc\n",
        "        self.train_dataloader = train_dataloader\n",
        "        self.val_dataloader = val_dataloader\n",
        "        self.model = self.model.to(device)\n",
        "        self.writer = SummaryWriter(\"tboard\")\n",
        "        self.step_train = 0\n",
        "        self.step_val = 0\n",
        "\n",
        "\n",
        "\n",
        "    def train_fn(self,epoch):\n",
        "        self.model.train()\n",
        "        count,total_loss,total_acc = 0,0,0\n",
        "        loop = notebook.tqdm(enumerate(self.train_dataloader),total = len(self.train_dataloader))\n",
        "        for bi,data in loop:\n",
        "            images = data[0].to(device)\n",
        "            targets = data[1].to(device)\n",
        "            preds =  self.model(images)\n",
        "            self.optimizer.zero_grad()\n",
        "            loss,acc =self.criterion(preds, targets)\n",
        "            total_loss += loss.item()\n",
        "            total_acc += acc\n",
        "            self.writer.add_scalar(\"Training Loss\",loss.item(),global_step=self.step_train)\n",
        "            self.writer.add_scalar(\"Training Accuracy\",acc,global_step=self.step_train)\n",
        "            count +=1\n",
        "            self.step_train +=1\n",
        "            loss.backward()\n",
        "            self.optimizer.step()\n",
        "            loop.set_postfix(Epoch=epoch,Avg_Train_Loss=total_loss/count,Avg_Train_Acc=total_acc/count,Current_Train_Loss=loss.item(),Current_Train_Acc=acc,LR=self.optimizer.param_groups[0]['lr'])\n",
        "        self.lr_scheduler.step()\n",
        "\n",
        "    def eval_fn(self,epoch):\n",
        "        self.model.eval()\n",
        "        count,total_loss,total_acc = 0,0,0\n",
        "        with torch.no_grad():\n",
        "            loop = notebook.tqdm(enumerate(self.val_dataloader),total = len(self.val_dataloader))\n",
        "            for bi,data in loop:\n",
        "                images = data[0].to(device)\n",
        "                targets = data[1].to(device)\n",
        "                preds =  self.model(images)\n",
        "                loss,acc =self.criterion(preds, targets)\n",
        "                total_loss += loss.item()\n",
        "                total_acc += acc\n",
        "                self.writer.add_scalar(\"Validation Loss\",loss.item(),global_step=self.step_val)\n",
        "                self.writer.add_scalar(\"Validation Accuracy\",acc,global_step=self.step_val)\n",
        "                count +=1\n",
        "                self.step_val +=1\n",
        "                loop.set_postfix(Epoch=epoch,Avg_Val_Loss=total_loss/count,Avg_Val_Acc=total_acc/count,Current_Val_Loss=loss.item(),Current_Val_Acc=acc)\n",
        "\n",
        "        return total_acc / count\n",
        "\n",
        "    def run(self,epochs = 5):\n",
        "        best_acc = 0\n",
        "        for epoch in range (epochs):\n",
        "            self.train_fn(epoch)\n",
        "            val_acc = self.eval_fn(epoch)\n",
        "            print(\"Epoch {} complete! Validation Acc : {}\".format(epoch, val_acc))\n",
        "            if val_acc > best_acc:\n",
        "                print(\"Best validation Acc improved from {} to {}, saving model...\".format(best_acc, val_acc))\n",
        "                best_acc = val_acc\n",
        "                torch.save(self.model, configs.CHECKPOINT)\n"
      ],
      "id": "better-zealand",
      "execution_count": null,
      "outputs": []
    },
    {
      "cell_type": "code",
      "metadata": {
        "colab": {
          "base_uri": "https://localhost:8080/"
        },
        "id": "herbal-helicopter",
        "outputId": "e4f4ec93-2f16-4201-f97d-015173c2d006"
      },
      "source": [
        "train = trainer(train_loader,val_loader)"
      ],
      "id": "herbal-helicopter",
      "execution_count": null,
      "outputs": [
        {
          "name": "stdout",
          "output_type": "stream",
          "text": [
            "Loaded pretrained weights for efficientnet-b0\n"
          ]
        }
      ]
    },
    {
      "cell_type": "code",
      "metadata": {
        "id": "318cdeb8-b671-4035-b8b8-95aba3cc0db8"
      },
      "source": [
        "#train.model"
      ],
      "id": "318cdeb8-b671-4035-b8b8-95aba3cc0db8",
      "execution_count": null,
      "outputs": []
    },
    {
      "cell_type": "code",
      "metadata": {
        "colab": {
          "background_save": true,
          "base_uri": "https://localhost:8080/",
          "height": 49,
          "referenced_widgets": [
            "d49729d3cb7843feb4428c7288c870f3",
            "1d42f76ce3dc4a2eb2f28ca9b6f8191c",
            "4b7eb6b2622e47b3a16fbea2ddeadfd7",
            "e98b6736a7de4023b833bc437d79be14",
            "a878518d3e7145fe83e16caa0be9a901",
            "71b8c8d7cdbf4a648ea758a0b548146d",
            "0ef618a1d39e4c2484c56feafabcf786",
            "64ea9d0b233c434b8136c8e36c0e2089",
            "3df44c4f591043f39b842e8efcafc4f7"
          ]
        },
        "id": "spatial-pricing",
        "outputId": "e1fef4b4-c50e-4dfc-d5e6-bf51db49da16"
      },
      "source": [
        "train.run(configs.EPOCHS)"
      ],
      "id": "spatial-pricing",
      "execution_count": null,
      "outputs": [
        {
          "data": {
            "application/vnd.jupyter.widget-view+json": {
              "model_id": "d49729d3cb7843feb4428c7288c870f3",
              "version_major": 2,
              "version_minor": 0
            },
            "text/plain": [
              "HBox(children=(FloatProgress(value=0.0, max=590.0), HTML(value='')))"
            ]
          },
          "metadata": {},
          "output_type": "display_data"
        },
        {
          "name": "stdout",
          "output_type": "stream",
          "text": [
            "\n"
          ]
        },
        {
          "data": {
            "application/vnd.jupyter.widget-view+json": {
              "model_id": "3df44c4f591043f39b842e8efcafc4f7",
              "version_major": 2,
              "version_minor": 0
            },
            "text/plain": [
              "HBox(children=(FloatProgress(value=0.0, max=65.0), HTML(value='')))"
            ]
          },
          "metadata": {},
          "output_type": "display_data"
        },
        {
          "name": "stdout",
          "output_type": "stream",
          "text": [
            "\n",
            "Epoch 0 complete! Validation Acc : 1.0\n",
            "Best validation Acc improved from 0 to 1.0, saving model...\n"
          ]
        },
        {
          "ename": "NotADirectoryError",
          "evalue": "ignored",
          "output_type": "error",
          "traceback": [
            "\u001b[0;31m---------------------------------------------------------------------------\u001b[0m",
            "\u001b[0;31mNotADirectoryError\u001b[0m                        Traceback (most recent call last)",
            "\u001b[0;32m<ipython-input-27-4439b23a7a54>\u001b[0m in \u001b[0;36m<module>\u001b[0;34m()\u001b[0m\n\u001b[0;32m----> 1\u001b[0;31m \u001b[0mtrain\u001b[0m\u001b[0;34m.\u001b[0m\u001b[0mrun\u001b[0m\u001b[0;34m(\u001b[0m\u001b[0mconfigs\u001b[0m\u001b[0;34m.\u001b[0m\u001b[0mEPOCHS\u001b[0m\u001b[0;34m)\u001b[0m\u001b[0;34m\u001b[0m\u001b[0;34m\u001b[0m\u001b[0m\n\u001b[0m",
            "\u001b[0;32m<ipython-input-25-52257c3a639d>\u001b[0m in \u001b[0;36mrun\u001b[0;34m(self, epochs)\u001b[0m\n\u001b[1;32m     75\u001b[0m                 \u001b[0mprint\u001b[0m\u001b[0;34m(\u001b[0m\u001b[0;34m\"Best validation Acc improved from {} to {}, saving model...\"\u001b[0m\u001b[0;34m.\u001b[0m\u001b[0mformat\u001b[0m\u001b[0;34m(\u001b[0m\u001b[0mbest_acc\u001b[0m\u001b[0;34m,\u001b[0m \u001b[0mval_acc\u001b[0m\u001b[0;34m)\u001b[0m\u001b[0;34m)\u001b[0m\u001b[0;34m\u001b[0m\u001b[0;34m\u001b[0m\u001b[0m\n\u001b[1;32m     76\u001b[0m                 \u001b[0mbest_acc\u001b[0m \u001b[0;34m=\u001b[0m \u001b[0mval_acc\u001b[0m\u001b[0;34m\u001b[0m\u001b[0;34m\u001b[0m\u001b[0m\n\u001b[0;32m---> 77\u001b[0;31m                 \u001b[0mtorch\u001b[0m\u001b[0;34m.\u001b[0m\u001b[0msave\u001b[0m\u001b[0;34m(\u001b[0m\u001b[0mself\u001b[0m\u001b[0;34m.\u001b[0m\u001b[0mmodel\u001b[0m\u001b[0;34m,\u001b[0m \u001b[0mconfigs\u001b[0m\u001b[0;34m.\u001b[0m\u001b[0mCHECKPOINT\u001b[0m\u001b[0;34m)\u001b[0m\u001b[0;34m\u001b[0m\u001b[0;34m\u001b[0m\u001b[0m\n\u001b[0m",
            "\u001b[0;32m/usr/local/lib/python3.7/dist-packages/torch/serialization.py\u001b[0m in \u001b[0;36msave\u001b[0;34m(obj, f, pickle_module, pickle_protocol, _use_new_zipfile_serialization)\u001b[0m\n\u001b[1;32m    367\u001b[0m     \u001b[0m_check_dill_version\u001b[0m\u001b[0;34m(\u001b[0m\u001b[0mpickle_module\u001b[0m\u001b[0;34m)\u001b[0m\u001b[0;34m\u001b[0m\u001b[0;34m\u001b[0m\u001b[0m\n\u001b[1;32m    368\u001b[0m \u001b[0;34m\u001b[0m\u001b[0m\n\u001b[0;32m--> 369\u001b[0;31m     \u001b[0;32mwith\u001b[0m \u001b[0m_open_file_like\u001b[0m\u001b[0;34m(\u001b[0m\u001b[0mf\u001b[0m\u001b[0;34m,\u001b[0m \u001b[0;34m'wb'\u001b[0m\u001b[0;34m)\u001b[0m \u001b[0;32mas\u001b[0m \u001b[0mopened_file\u001b[0m\u001b[0;34m:\u001b[0m\u001b[0;34m\u001b[0m\u001b[0;34m\u001b[0m\u001b[0m\n\u001b[0m\u001b[1;32m    370\u001b[0m         \u001b[0;32mif\u001b[0m \u001b[0m_use_new_zipfile_serialization\u001b[0m\u001b[0;34m:\u001b[0m\u001b[0;34m\u001b[0m\u001b[0;34m\u001b[0m\u001b[0m\n\u001b[1;32m    371\u001b[0m             \u001b[0;32mwith\u001b[0m \u001b[0m_open_zipfile_writer\u001b[0m\u001b[0;34m(\u001b[0m\u001b[0mopened_file\u001b[0m\u001b[0;34m)\u001b[0m \u001b[0;32mas\u001b[0m \u001b[0mopened_zipfile\u001b[0m\u001b[0;34m:\u001b[0m\u001b[0;34m\u001b[0m\u001b[0;34m\u001b[0m\u001b[0m\n",
            "\u001b[0;32m/usr/local/lib/python3.7/dist-packages/torch/serialization.py\u001b[0m in \u001b[0;36m_open_file_like\u001b[0;34m(name_or_buffer, mode)\u001b[0m\n\u001b[1;32m    228\u001b[0m \u001b[0;32mdef\u001b[0m \u001b[0m_open_file_like\u001b[0m\u001b[0;34m(\u001b[0m\u001b[0mname_or_buffer\u001b[0m\u001b[0;34m,\u001b[0m \u001b[0mmode\u001b[0m\u001b[0;34m)\u001b[0m\u001b[0;34m:\u001b[0m\u001b[0;34m\u001b[0m\u001b[0;34m\u001b[0m\u001b[0m\n\u001b[1;32m    229\u001b[0m     \u001b[0;32mif\u001b[0m \u001b[0m_is_path\u001b[0m\u001b[0;34m(\u001b[0m\u001b[0mname_or_buffer\u001b[0m\u001b[0;34m)\u001b[0m\u001b[0;34m:\u001b[0m\u001b[0;34m\u001b[0m\u001b[0;34m\u001b[0m\u001b[0m\n\u001b[0;32m--> 230\u001b[0;31m         \u001b[0;32mreturn\u001b[0m \u001b[0m_open_file\u001b[0m\u001b[0;34m(\u001b[0m\u001b[0mname_or_buffer\u001b[0m\u001b[0;34m,\u001b[0m \u001b[0mmode\u001b[0m\u001b[0;34m)\u001b[0m\u001b[0;34m\u001b[0m\u001b[0;34m\u001b[0m\u001b[0m\n\u001b[0m\u001b[1;32m    231\u001b[0m     \u001b[0;32melse\u001b[0m\u001b[0;34m:\u001b[0m\u001b[0;34m\u001b[0m\u001b[0;34m\u001b[0m\u001b[0m\n\u001b[1;32m    232\u001b[0m         \u001b[0;32mif\u001b[0m \u001b[0;34m'w'\u001b[0m \u001b[0;32min\u001b[0m \u001b[0mmode\u001b[0m\u001b[0;34m:\u001b[0m\u001b[0;34m\u001b[0m\u001b[0;34m\u001b[0m\u001b[0m\n",
            "\u001b[0;32m/usr/local/lib/python3.7/dist-packages/torch/serialization.py\u001b[0m in \u001b[0;36m__init__\u001b[0;34m(self, name, mode)\u001b[0m\n\u001b[1;32m    209\u001b[0m \u001b[0;32mclass\u001b[0m \u001b[0m_open_file\u001b[0m\u001b[0;34m(\u001b[0m\u001b[0m_opener\u001b[0m\u001b[0;34m)\u001b[0m\u001b[0;34m:\u001b[0m\u001b[0;34m\u001b[0m\u001b[0;34m\u001b[0m\u001b[0m\n\u001b[1;32m    210\u001b[0m     \u001b[0;32mdef\u001b[0m \u001b[0m__init__\u001b[0m\u001b[0;34m(\u001b[0m\u001b[0mself\u001b[0m\u001b[0;34m,\u001b[0m \u001b[0mname\u001b[0m\u001b[0;34m,\u001b[0m \u001b[0mmode\u001b[0m\u001b[0;34m)\u001b[0m\u001b[0;34m:\u001b[0m\u001b[0;34m\u001b[0m\u001b[0;34m\u001b[0m\u001b[0m\n\u001b[0;32m--> 211\u001b[0;31m         \u001b[0msuper\u001b[0m\u001b[0;34m(\u001b[0m\u001b[0m_open_file\u001b[0m\u001b[0;34m,\u001b[0m \u001b[0mself\u001b[0m\u001b[0;34m)\u001b[0m\u001b[0;34m.\u001b[0m\u001b[0m__init__\u001b[0m\u001b[0;34m(\u001b[0m\u001b[0mopen\u001b[0m\u001b[0;34m(\u001b[0m\u001b[0mname\u001b[0m\u001b[0;34m,\u001b[0m \u001b[0mmode\u001b[0m\u001b[0;34m)\u001b[0m\u001b[0;34m)\u001b[0m\u001b[0;34m\u001b[0m\u001b[0;34m\u001b[0m\u001b[0m\n\u001b[0m\u001b[1;32m    212\u001b[0m \u001b[0;34m\u001b[0m\u001b[0m\n\u001b[1;32m    213\u001b[0m     \u001b[0;32mdef\u001b[0m \u001b[0m__exit__\u001b[0m\u001b[0;34m(\u001b[0m\u001b[0mself\u001b[0m\u001b[0;34m,\u001b[0m \u001b[0;34m*\u001b[0m\u001b[0margs\u001b[0m\u001b[0;34m)\u001b[0m\u001b[0;34m:\u001b[0m\u001b[0;34m\u001b[0m\u001b[0;34m\u001b[0m\u001b[0m\n",
            "\u001b[0;31mNotADirectoryError\u001b[0m: [Errno 20] Not a directory: '/content/drive/MyDrive/isl/data.zip/cnn_eff0_model.pt'"
          ]
        }
      ]
    },
    {
      "cell_type": "code",
      "metadata": {
        "id": "affiliated-portable"
      },
      "source": [],
      "id": "affiliated-portable",
      "execution_count": null,
      "outputs": []
    },
    {
      "cell_type": "code",
      "metadata": {
        "id": "amino-cassette"
      },
      "source": [],
      "id": "amino-cassette",
      "execution_count": null,
      "outputs": []
    }
  ]
}