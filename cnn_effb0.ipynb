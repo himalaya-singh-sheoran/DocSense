{
  "cells": [
    {
      "cell_type": "code",
      "execution_count": 20,
      "id": "communist-biotechnology",
      "metadata": {
        "id": "communist-biotechnology"
      },
      "outputs": [],
      "source": [
        "import os\n",
        "import math\n",
        "import random\n",
        "import pandas as pd\n",
        "import numpy as np\n",
        "\n",
        "import cv2\n",
        "import matplotlib.pyplot as plt\n",
        "%matplotlib inline\n",
        "\n",
        "from tqdm import notebook\n",
        "from tqdm import tqdm\n",
        "\n",
        "from sklearn.model_selection import train_test_split\n",
        "from sklearn import metrics\n",
        "\n",
        "import torch\n",
        "import torch.nn as nn\n",
        "\n",
        "from torch.nn import Parameter\n",
        "from torch.nn import functional as F\n",
        "from torch.utils.data import Dataset,DataLoader\n",
        "from torch.optim import AdamW\n",
        "from torch.optim.lr_scheduler import CosineAnnealingWarmRestarts, CosineAnnealingLR, ReduceLROnPlateau\n",
        "from torch.optim.lr_scheduler import _LRScheduler\n",
        "from torchvision import transforms as T\n",
        "\n",
        "from torch.utils.tensorboard import SummaryWriter\n",
        "from efficientnet_pytorch import EfficientNet\n",
        "\n",
        "device = 'cuda' if torch.cuda.is_available() else 'cpu'"
      ]
    },
    {
      "cell_type": "code",
      "execution_count": 21,
      "id": "practical-doubt",
      "metadata": {
        "id": "practical-doubt"
      },
      "outputs": [],
      "source": [
        "class configs:\n",
        "    IMAGE_SIZE = 224\n",
        "    NUM_WORKERS = 2\n",
        "    BATCH_SIZE = 32\n",
        "    EPOCHS = 100\n",
        "    SEED = 69\n",
        "    CHECKPOINT = \"./checkpoints/cnn_eff0_model/\"\n",
        "    MODEL_NAME = 'efficientnet-b0'\n",
        "    scheduler_params = {\n",
        "        \"lr_start\": 3e-5,\n",
        "        \"lr_max\": 6e-5,\n",
        "        \"lr_min\": 1e-6,\n",
        "        \"lr_ramp_ep\": 5,\n",
        "        \"lr_sus_ep\": 0,\n",
        "        \"lr_decay\": 0.8,\n",
        "    }\n",
        "\n",
        "    model_params = {\n",
        "    'model_name':MODEL_NAME,\n",
        "    'in_channels':3,\n",
        "    'image_size':IMAGE_SIZE,\n",
        "    'num_classes':2,\n",
        "    }"
      ]
    },
    {
      "cell_type": "code",
      "execution_count": 22,
      "id": "compact-surveillance",
      "metadata": {
        "id": "compact-surveillance"
      },
      "outputs": [],
      "source": [
        "class AverageMeter(object):\n",
        "    def __init__(self):\n",
        "        self.reset()\n",
        "\n",
        "    def reset(self):\n",
        "        self.val = 0\n",
        "        self.avg = 0\n",
        "        self.sum = 0\n",
        "        self.count = 0\n",
        "\n",
        "    def update(self, val, n=1):\n",
        "        self.val = val\n",
        "        self.sum += val * n\n",
        "        self.count += n\n",
        "        self.avg = self.sum / self.count"
      ]
    },
    {
      "cell_type": "code",
      "execution_count": 23,
      "id": "extra-electron",
      "metadata": {
        "id": "extra-electron"
      },
      "outputs": [],
      "source": [
        "def seed_torch(seed=1):\n",
        "    random.seed(seed)\n",
        "    os.environ['PYTHONHASHSEED'] = str(seed)\n",
        "    np.random.seed(seed)\n",
        "    torch.manual_seed(seed)\n",
        "    torch.cuda.manual_seed(seed)\n",
        "    torch.backends.cudnn.deterministic = True\n",
        "\n",
        "seed_torch(configs.SEED)"
      ]
    },
    {
      "cell_type": "code",
      "execution_count": 24,
      "id": "tutorial-supervision",
      "metadata": {
        "id": "tutorial-supervision"
      },
      "outputs": [],
      "source": [
        "train_trns = T.Compose([\n",
        "    T.ToPILImage(),\n",
        "    T.Resize(size = (configs.IMAGE_SIZE,configs.IMAGE_SIZE)),\n",
        "    T.RandomHorizontalFlip(p=0.5),\n",
        "    T.ColorJitter(brightness=(0.8,1.2)),\n",
        "    T.RandomAffine(degrees=(-10,10),translate =(0.1,0.1),shear =(-5,5,-5,5),interpolation = T.InterpolationMode.BILINEAR),\n",
        "    T.RandomPerspective(distortion_scale=0.3),\n",
        "    T.ToTensor(),\n",
        "    T.RandomApply([T.Lambda(lambda x : x + (0.1**0.7)*torch.randn(3,configs.IMAGE_SIZE,configs.IMAGE_SIZE))],p=0.08),\n",
        "    T.Normalize((0.485, 0.456, 0.406), (0.229, 0.224, 0.225))\n",
        "])\n",
        "\n",
        "val_trns = T.Compose([\n",
        "    T.ToPILImage(),\n",
        "    T.Resize(size = (configs.IMAGE_SIZE,configs.IMAGE_SIZE)),\n",
        "    T.ToTensor(),\n",
        "    T.Normalize((0.485, 0.456, 0.406), (0.229, 0.224, 0.225))\n",
        "])"
      ]
    },
    {
      "cell_type": "code",
      "execution_count": 25,
      "id": "fallen-concert",
      "metadata": {
        "id": "fallen-concert"
      },
      "outputs": [],
      "source": [
        "class FindItData(Dataset):\n",
        "    def __init__(self,df,split,transform):\n",
        "        self.img_locs = list(df.image)\n",
        "        self.targets = list(df.forged)\n",
        "        self.transform = transform\n",
        "        self.split = split\n",
        "    def  __len__(self):\n",
        "        return len(self.targets)\n",
        "    def __getitem__(self,idx):\n",
        "        img_loc = str(self.img_locs[idx])\n",
        "        img = cv2.imread(\"./\"+self.split+\"/\"+img_loc)\n",
        "        img = cv2.cvtColor(img,cv2.COLOR_BGR2RGB)\n",
        "        img = self.transform(img)\n",
        "        target = self.targets[idx]\n",
        "        return img,target"
      ]
    },
    {
      "cell_type": "code",
      "execution_count": 26,
      "id": "66cecb96",
      "metadata": {},
      "outputs": [],
      "source": [
        "df_train = pd.read_csv(\"train.txt\")\n",
        "df_test = pd.read_csv(\"test.txt\")"
      ]
    },
    {
      "cell_type": "code",
      "execution_count": 27,
      "id": "df353450",
      "metadata": {},
      "outputs": [
        {
          "data": {
            "text/html": [
              "<div>\n",
              "<style scoped>\n",
              "    .dataframe tbody tr th:only-of-type {\n",
              "        vertical-align: middle;\n",
              "    }\n",
              "\n",
              "    .dataframe tbody tr th {\n",
              "        vertical-align: top;\n",
              "    }\n",
              "\n",
              "    .dataframe thead th {\n",
              "        text-align: right;\n",
              "    }\n",
              "</style>\n",
              "<table border=\"1\" class=\"dataframe\">\n",
              "  <thead>\n",
              "    <tr style=\"text-align: right;\">\n",
              "      <th></th>\n",
              "      <th>image</th>\n",
              "      <th>digital annotation</th>\n",
              "      <th>handwritten annotation</th>\n",
              "      <th>forged</th>\n",
              "      <th>forgery annotations</th>\n",
              "    </tr>\n",
              "  </thead>\n",
              "  <tbody>\n",
              "    <tr>\n",
              "      <th>0</th>\n",
              "      <td>X00016469622.png</td>\n",
              "      <td>1</td>\n",
              "      <td>1</td>\n",
              "      <td>1</td>\n",
              "      <td>{'filename': 'X00016469622.png', 'size': 23072...</td>\n",
              "    </tr>\n",
              "    <tr>\n",
              "      <th>1</th>\n",
              "      <td>X00016469623.png</td>\n",
              "      <td>1</td>\n",
              "      <td>1</td>\n",
              "      <td>0</td>\n",
              "      <td>0</td>\n",
              "    </tr>\n",
              "    <tr>\n",
              "      <th>2</th>\n",
              "      <td>X00016469670.png</td>\n",
              "      <td>1</td>\n",
              "      <td>1</td>\n",
              "      <td>0</td>\n",
              "      <td>0</td>\n",
              "    </tr>\n",
              "    <tr>\n",
              "      <th>3</th>\n",
              "      <td>X00016469671.png</td>\n",
              "      <td>1</td>\n",
              "      <td>1</td>\n",
              "      <td>0</td>\n",
              "      <td>0</td>\n",
              "    </tr>\n",
              "    <tr>\n",
              "      <th>4</th>\n",
              "      <td>X00016469672.png</td>\n",
              "      <td>1</td>\n",
              "      <td>1</td>\n",
              "      <td>0</td>\n",
              "      <td>0</td>\n",
              "    </tr>\n",
              "  </tbody>\n",
              "</table>\n",
              "</div>"
            ],
            "text/plain": [
              "              image  digital annotation  handwritten annotation  forged  \\\n",
              "0  X00016469622.png                   1                       1       1   \n",
              "1  X00016469623.png                   1                       1       0   \n",
              "2  X00016469670.png                   1                       1       0   \n",
              "3  X00016469671.png                   1                       1       0   \n",
              "4  X00016469672.png                   1                       1       0   \n",
              "\n",
              "                                 forgery annotations  \n",
              "0  {'filename': 'X00016469622.png', 'size': 23072...  \n",
              "1                                                  0  \n",
              "2                                                  0  \n",
              "3                                                  0  \n",
              "4                                                  0  "
            ]
          },
          "execution_count": 27,
          "metadata": {},
          "output_type": "execute_result"
        }
      ],
      "source": [
        "df_train.head()"
      ]
    },
    {
      "cell_type": "code",
      "execution_count": 28,
      "id": "XqU3Mu1abZoL",
      "metadata": {
        "id": "XqU3Mu1abZoL"
      },
      "outputs": [],
      "source": [
        "img = cv2.imread(\"./train/\"+df_train['image'][0])"
      ]
    },
    {
      "cell_type": "code",
      "execution_count": 29,
      "id": "Bbqap4SBbjpb",
      "metadata": {
        "colab": {
          "base_uri": "https://localhost:8080/",
          "height": 285
        },
        "id": "Bbqap4SBbjpb",
        "outputId": "a1b024f8-3702-46cb-ca6b-201193ef9ff5"
      },
      "outputs": [
        {
          "data": {
            "text/plain": [
              "<matplotlib.image.AxesImage at 0x168c0d83280>"
            ]
          },
          "execution_count": 29,
          "metadata": {},
          "output_type": "execute_result"
        },
        {
          "data": {
            "image/png": "[encoded data removed]",
            "text/plain": [
              "<Figure size 432x288 with 1 Axes>"
            ]
          },
          "metadata": {
            "needs_background": "light"
          },
          "output_type": "display_data"
        }
      ],
      "source": [
        "plt.imshow(img)"
      ]
    },
    {
      "cell_type": "code",
      "execution_count": 30,
      "id": "metallic-sauce",
      "metadata": {
        "id": "metallic-sauce"
      },
      "outputs": [],
      "source": [
        "train_ds = FindItData(df_train,\"train\",train_trns)\n",
        "train_loader = DataLoader(train_ds, batch_size=configs.BATCH_SIZE, shuffle=True, drop_last=True)\n",
        "val_ds = FindItData(df_test,\"test\",val_trns)\n",
        "val_loader = DataLoader(val_ds, batch_size=configs.BATCH_SIZE, shuffle=False, drop_last=True)\n"
      ]
    },
    {
      "cell_type": "code",
      "execution_count": 31,
      "id": "insured-walter",
      "metadata": {
        "id": "insured-walter"
      },
      "outputs": [],
      "source": [
        "class CNNModel(nn.Module):\n",
        "    def __init__(self,model_name='efficientnet-b0',in_channels=3,image_size=224,num_classes=35):\n",
        "        super(CNNModel,self).__init__()\n",
        "        self.model = EfficientNet.from_pretrained(model_name=model_name,in_channels=in_channels,image_size=image_size,num_classes=num_classes)\n",
        "\n",
        "    def forward(self, images):\n",
        "        return self.model(images)"
      ]
    },
    {
      "cell_type": "code",
      "execution_count": 32,
      "id": "74a9feec",
      "metadata": {},
      "outputs": [],
      "source": [
        "labels_tensor = torch.tensor(df_train['forged'])\n",
        "class_count = torch.bincount(labels_tensor)\n",
        "total_samples = torch.sum(class_count)\n",
        "class_frequencies = class_count.float()/total_samples\n",
        "\n",
        "inverse_class_weights = 1.0/class_frequencies\n",
        "class_weights = inverse_class_weights / torch.sum(inverse_class_weights)\n",
        "\n",
        "class_weights = class_weights.to(device)"
      ]
    },
    {
      "cell_type": "code",
      "execution_count": 33,
      "id": "8a9e3c1b",
      "metadata": {},
      "outputs": [],
      "source": [
        "\n",
        "def get_loss_acc(preds, targets):\n",
        "    loss = nn.CrossEntropyLoss(weight=class_weights)(preds,targets)\n",
        "    preds = torch.argmax(preds,dim=1).cpu().detach().numpy()\n",
        "    targets = targets.cpu().detach().numpy()\n",
        "    acc = metrics.accuracy_score(targets,preds)\n",
        "    f1_score = metrics.f1_score(targets,preds)\n",
        "    return loss,acc,f1_score"
      ]
    },
    {
      "cell_type": "code",
      "execution_count": 34,
      "id": "imported-discharge",
      "metadata": {
        "id": "imported-discharge"
      },
      "outputs": [],
      "source": [
        "class lr_scheduler(_LRScheduler):\n",
        "    def __init__(self, optimizer, lr_start=5e-6, lr_max=1e-5,\n",
        "                 lr_min=1e-6, lr_ramp_ep=5, lr_sus_ep=0, lr_decay=0.8,\n",
        "                 last_epoch=-1):\n",
        "        self.lr_start = lr_start\n",
        "        self.lr_max = lr_max\n",
        "        self.lr_min = lr_min\n",
        "        self.lr_ramp_ep = lr_ramp_ep\n",
        "        self.lr_sus_ep = lr_sus_ep\n",
        "        self.lr_decay = lr_decay\n",
        "        super(lr_scheduler, self).__init__(optimizer, last_epoch)\n",
        "\n",
        "    def get_lr(self):\n",
        "        if not self._get_lr_called_within_step:\n",
        "            warnings.warn(\"To get the last learning rate computed by the scheduler, \"\n",
        "                          \"please use `get_last_lr()`.\", UserWarning)\n",
        "\n",
        "        if self.last_epoch == 0:\n",
        "            self.last_epoch += 1\n",
        "            return [self.lr_start for _ in self.optimizer.param_groups]\n",
        "\n",
        "        lr = self._compute_lr_from_epoch()\n",
        "        self.last_epoch += 1\n",
        "\n",
        "        return [lr for _ in self.optimizer.param_groups]\n",
        "\n",
        "    def _get_closed_form_lr(self):\n",
        "        return self.base_lrs\n",
        "\n",
        "    def _compute_lr_from_epoch(self):\n",
        "        if self.last_epoch < self.lr_ramp_ep:\n",
        "            lr = ((self.lr_max - self.lr_start) /\n",
        "                  self.lr_ramp_ep * self.last_epoch +\n",
        "                  self.lr_start)\n",
        "\n",
        "        elif self.last_epoch < self.lr_ramp_ep + self.lr_sus_ep:\n",
        "            lr = self.lr_max\n",
        "\n",
        "        else:\n",
        "            lr = ((self.lr_max - self.lr_min) * self.lr_decay**\n",
        "                  (self.last_epoch - self.lr_ramp_ep - self.lr_sus_ep) +\n",
        "                  self.lr_min)\n",
        "        return lr"
      ]
    },
    {
      "cell_type": "code",
      "execution_count": 35,
      "id": "better-zealand",
      "metadata": {
        "id": "better-zealand"
      },
      "outputs": [],
      "source": [
        "class trainer:\n",
        "    def __init__(self,train_dataloader,val_dataloader,load_checkpoint = False):\n",
        "        if(load_checkpoint):\n",
        "            print(\"Loading pretrained model...\")\n",
        "            self.model = torch.load(configs.CHECKPOINT+\"model.pt\")\n",
        "        else:\n",
        "            self.model  = CNNModel(**configs.model_params)\n",
        "        no_decay = ['bias','LayerNorm.bias','LayerNorm.weight']\n",
        "        para_optimizer = list(self.model.named_parameters())\n",
        "        self.optimizer_parameters = [\n",
        "        {'params':[p for n,p in para_optimizer if not any(nd in n for nd in no_decay)],'weight_decay':1e-5},\n",
        "        {'params':[p for n,p in para_optimizer if  any(nd in n for nd in no_decay)],'weight_decay':0.0}\n",
        "        ]\n",
        "\n",
        "        self.optimizer = AdamW(amsgrad = True,params = self.optimizer_parameters,lr = 3e-5)\n",
        "        self.lr_scheduler = lr_scheduler(self.optimizer,**configs.scheduler_params)\n",
        "        self.criterion = get_loss_acc\n",
        "        self.train_dataloader = train_dataloader\n",
        "        self.val_dataloader = val_dataloader\n",
        "        self.model = self.model.to(device)\n",
        "        self.writer = SummaryWriter(configs.CHECKPOINT+\"tboard\")\n",
        "        self.step_train = 0\n",
        "        self.step_val = 0\n",
        "\n",
        "\n",
        "\n",
        "    def train_fn(self,epoch):\n",
        "        self.model.train()\n",
        "        count,total_loss,total_acc,total_f1_score = 0,0,0,0\n",
        "        loop = notebook.tqdm(enumerate(self.train_dataloader),total = len(self.train_dataloader))\n",
        "        for bi,data in loop:\n",
        "            images = data[0].to(device)\n",
        "            targets = data[1].to(device)\n",
        "            preds =  self.model(images)\n",
        "            self.optimizer.zero_grad()\n",
        "            loss,acc,f1score =self.criterion(preds, targets)\n",
        "            total_loss += loss.item()\n",
        "            total_acc += acc\n",
        "            total_f1_score += f1score\n",
        "            self.writer.add_scalar(\"Training Loss\",loss.item(),global_step=self.step_train)\n",
        "            self.writer.add_scalar(\"Training Accuracy\",acc,global_step=self.step_train)\n",
        "            self.writer.add_scalar(\"Training F1 score\",f1score,global_step=self.step_train)\n",
        "            count +=1\n",
        "            self.step_train +=1\n",
        "            loss.backward()\n",
        "            self.optimizer.step()\n",
        "            loop.set_postfix(Epoch=epoch,Avg_Train_Loss=total_loss/count,Avg_Train_Acc=total_acc/count,Current_Train_Loss=loss.item(),Current_Train_Acc=acc,LR=self.optimizer.param_groups[0]['lr'])\n",
        "        self.lr_scheduler.step()\n",
        "\n",
        "    def eval_fn(self,epoch):\n",
        "        self.model.eval()\n",
        "        count,total_loss,total_acc,total_f1_score = 0,0,0,0\n",
        "        with torch.no_grad():\n",
        "            loop = notebook.tqdm(enumerate(self.val_dataloader),total = len(self.val_dataloader))\n",
        "            for bi,data in loop:\n",
        "                images = data[0].to(device)\n",
        "                targets = data[1].to(device)\n",
        "                preds =  self.model(images)\n",
        "                loss,acc,f1score =self.criterion(preds, targets)\n",
        "                total_loss += loss.item()\n",
        "                total_acc += acc\n",
        "                total_f1_score += f1score\n",
        "                self.writer.add_scalar(\"Validation Loss\",loss.item(),global_step=self.step_val)\n",
        "                self.writer.add_scalar(\"Validation Accuracy\",acc,global_step=self.step_val)\n",
        "                self.writer.add_scalar(\"Training F1 score\",f1score,global_step=self.step_train)\n",
        "                count +=1\n",
        "                self.step_val +=1\n",
        "                loop.set_postfix(Epoch=epoch,Avg_Val_Loss=total_loss/count,Avg_Val_Acc=total_acc/count,Current_Val_Loss=loss.item(),Current_Val_Acc=acc)\n",
        "\n",
        "        return total_f1_score / count\n",
        "\n",
        "    def run(self,epochs = 5):\n",
        "        best_score = 0\n",
        "        for epoch in range (epochs):\n",
        "            self.train_fn(epoch)\n",
        "            val_score = self.eval_fn(epoch)\n",
        "            print(\"Epoch {} complete! Validation F1 score : {}\".format(epoch, val_score))\n",
        "            if val_score > best_score:\n",
        "                print(\"Best validation Score improved from {} to {}, saving model...\".format(best_score, val_score))\n",
        "                best_score = val_score\n",
        "                torch.save(self.model, configs.CHECKPOINT+\"model.pt\")\n"
      ]
    },
    {
      "cell_type": "code",
      "execution_count": 36,
      "id": "herbal-helicopter",
      "metadata": {
        "colab": {
          "base_uri": "https://localhost:8080/"
        },
        "id": "herbal-helicopter",
        "outputId": "e4f4ec93-2f16-4201-f97d-015173c2d006"
      },
      "outputs": [
        {
          "name": "stdout",
          "output_type": "stream",
          "text": [
            "Loaded pretrained weights for efficientnet-b0\n"
          ]
        }
      ],
      "source": [
        "train = trainer(train_loader,val_loader)"
      ]
    },
    {
      "cell_type": "code",
      "execution_count": 37,
      "id": "318cdeb8-b671-4035-b8b8-95aba3cc0db8",
      "metadata": {
        "id": "318cdeb8-b671-4035-b8b8-95aba3cc0db8"
      },
      "outputs": [],
      "source": [
        "#train.model"
      ]
    },
    {
      "cell_type": "code",
      "execution_count": 38,
      "id": "spatial-pricing",
      "metadata": {
        "colab": {
          "background_save": true,
          "base_uri": "https://localhost:8080/",
          "height": 49,
          "referenced_widgets": [
            "d49729d3cb7843feb4428c7288c870f3",
            "1d42f76ce3dc4a2eb2f28ca9b6f8191c",
            "4b7eb6b2622e47b3a16fbea2ddeadfd7",
            "e98b6736a7de4023b833bc437d79be14",
            "a878518d3e7145fe83e16caa0be9a901",
            "71b8c8d7cdbf4a648ea758a0b548146d",
            "0ef618a1d39e4c2484c56feafabcf786",
            "64ea9d0b233c434b8136c8e36c0e2089",
            "3df44c4f591043f39b842e8efcafc4f7"
          ]
        },
        "id": "spatial-pricing",
        "outputId": "e1fef4b4-c50e-4dfc-d5e6-bf51db49da16"
      },
      "outputs": [
        {
          "data": {
            "application/vnd.jupyter.widget-view+json": {
              "model_id": "c7534112e0314480be45b72e959f47c9",
              "version_major": 2,
              "version_minor": 0
            },
            "text/plain": [
              "  0%|          | 0/18 [00:00<?, ?it/s]"
            ]
          },
          "metadata": {},
          "output_type": "display_data"
        },
        {
          "data": {
            "application/vnd.jupyter.widget-view+json": {
              "model_id": "75ca80d0439348719c0bbaecba5b1cd0",
              "version_major": 2,
              "version_minor": 0
            },
            "text/plain": [
              "  0%|          | 0/6 [00:00<?, ?it/s]"
            ]
          },
          "metadata": {},
          "output_type": "display_data"
        },
        {
          "ename": "NameError",
          "evalue": "name 'val_acc' is not defined",
          "output_type": "error",
          "traceback": [
            "\u001b[1;31m---------------------------------------------------------------------------\u001b[0m",
            "\u001b[1;31mNameError\u001b[0m                                 Traceback (most recent call last)",
            "\u001b[1;32m<ipython-input-38-4439b23a7a54>\u001b[0m in \u001b[0;36m<module>\u001b[1;34m\u001b[0m\n\u001b[1;32m----> 1\u001b[1;33m \u001b[0mtrain\u001b[0m\u001b[1;33m.\u001b[0m\u001b[0mrun\u001b[0m\u001b[1;33m(\u001b[0m\u001b[0mconfigs\u001b[0m\u001b[1;33m.\u001b[0m\u001b[0mEPOCHS\u001b[0m\u001b[1;33m)\u001b[0m\u001b[1;33m\u001b[0m\u001b[1;33m\u001b[0m\u001b[0m\n\u001b[0m",
            "\u001b[1;32m<ipython-input-35-1a7c9f1d0975>\u001b[0m in \u001b[0;36mrun\u001b[1;34m(self, epochs)\u001b[0m\n\u001b[0;32m     75\u001b[0m             \u001b[0mself\u001b[0m\u001b[1;33m.\u001b[0m\u001b[0mtrain_fn\u001b[0m\u001b[1;33m(\u001b[0m\u001b[0mepoch\u001b[0m\u001b[1;33m)\u001b[0m\u001b[1;33m\u001b[0m\u001b[1;33m\u001b[0m\u001b[0m\n\u001b[0;32m     76\u001b[0m             \u001b[0mval_score\u001b[0m \u001b[1;33m=\u001b[0m \u001b[0mself\u001b[0m\u001b[1;33m.\u001b[0m\u001b[0meval_fn\u001b[0m\u001b[1;33m(\u001b[0m\u001b[0mepoch\u001b[0m\u001b[1;33m)\u001b[0m\u001b[1;33m\u001b[0m\u001b[1;33m\u001b[0m\u001b[0m\n\u001b[1;32m---> 77\u001b[1;33m             \u001b[0mprint\u001b[0m\u001b[1;33m(\u001b[0m\u001b[1;34m\"Epoch {} complete! Validation F1 score : {}\"\u001b[0m\u001b[1;33m.\u001b[0m\u001b[0mformat\u001b[0m\u001b[1;33m(\u001b[0m\u001b[0mepoch\u001b[0m\u001b[1;33m,\u001b[0m \u001b[0mval_acc\u001b[0m\u001b[1;33m)\u001b[0m\u001b[1;33m)\u001b[0m\u001b[1;33m\u001b[0m\u001b[1;33m\u001b[0m\u001b[0m\n\u001b[0m\u001b[0;32m     78\u001b[0m             \u001b[1;32mif\u001b[0m \u001b[0mval_score\u001b[0m \u001b[1;33m>\u001b[0m \u001b[0mbest_score\u001b[0m\u001b[1;33m:\u001b[0m\u001b[1;33m\u001b[0m\u001b[1;33m\u001b[0m\u001b[0m\n\u001b[0;32m     79\u001b[0m                 \u001b[0mprint\u001b[0m\u001b[1;33m(\u001b[0m\u001b[1;34m\"Best validation Score improved from {} to {}, saving model...\"\u001b[0m\u001b[1;33m.\u001b[0m\u001b[0mformat\u001b[0m\u001b[1;33m(\u001b[0m\u001b[0mbest_score\u001b[0m\u001b[1;33m,\u001b[0m \u001b[0mval_score\u001b[0m\u001b[1;33m)\u001b[0m\u001b[1;33m)\u001b[0m\u001b[1;33m\u001b[0m\u001b[1;33m\u001b[0m\u001b[0m\n",
            "\u001b[1;31mNameError\u001b[0m: name 'val_acc' is not defined"
          ]
        }
      ],
      "source": [
        "train.run(configs.EPOCHS)"
      ]
    },
    {
      "cell_type": "code",
      "execution_count": null,
      "id": "affiliated-portable",
      "metadata": {
        "id": "affiliated-portable"
      },
      "outputs": [],
      "source": []
    },
    {
      "cell_type": "code",
      "execution_count": null,
      "id": "amino-cassette",
      "metadata": {
        "id": "amino-cassette"
      },
      "outputs": [],
      "source": []
    }
  ],
  "metadata": {
    "accelerator": "GPU",
    "colab": {
      "provenance": []
    },
    "kernelspec": {
      "display_name": "Python 3",
      "language": "python",
      "name": "python3"
    },
    "language_info": {
      "codemirror_mode": {
        "name": "ipython",
        "version": 3
      },
      "file_extension": ".py",
      "mimetype": "text/x-python",
      "name": "python",
      "nbconvert_exporter": "python",
      "pygments_lexer": "ipython3",
      "version": "3.9.16"
    },
    "widgets": {
      "application/vnd.jupyter.widget-state+json": {
        "0ef618a1d39e4c2484c56feafabcf786": {
          "model_module": "@jupyter-widgets/base",
          "model_module_version": "1.2.0",
          "model_name": "LayoutModel",
          "state": {
            "_model_module": "@jupyter-widgets/base",
            "_model_module_version": "1.2.0",
            "_model_name": "LayoutModel",
            "_view_count": null,
            "_view_module": "@jupyter-widgets/base",
            "_view_module_version": "1.2.0",
            "_view_name": "LayoutView",
            "align_content": null,
            "align_items": null,
            "align_self": null,
            "border": null,
            "bottom": null,
            "display": null,
            "flex": null,
            "flex_flow": null,
            "grid_area": null,
            "grid_auto_columns": null,
            "grid_auto_flow": null,
            "grid_auto_rows": null,
            "grid_column": null,
            "grid_gap": null,
            "grid_row": null,
            "grid_template_areas": null,
            "grid_template_columns": null,
            "grid_template_rows": null,
            "height": null,
            "justify_content": null,
            "justify_items": null,
            "left": null,
            "margin": null,
            "max_height": null,
            "max_width": null,
            "min_height": null,
            "min_width": null,
            "object_fit": null,
            "object_position": null,
            "order": null,
            "overflow": null,
            "overflow_x": null,
            "overflow_y": null,
            "padding": null,
            "right": null,
            "top": null,
            "visibility": null,
            "width": null
          }
        },
        "1d42f76ce3dc4a2eb2f28ca9b6f8191c": {
          "model_module": "@jupyter-widgets/controls",
          "model_module_version": "1.5.0",
          "model_name": "FloatProgressModel",
          "state": {
            "_dom_classes": [],
            "_model_module": "@jupyter-widgets/controls",
            "_model_module_version": "1.5.0",
            "_model_name": "FloatProgressModel",
            "_view_count": null,
            "_view_module": "@jupyter-widgets/controls",
            "_view_module_version": "1.5.0",
            "_view_name": "ProgressView",
            "bar_style": "",
            "description": " 62%",
            "description_tooltip": null,
            "layout": "IPY_MODEL_a878518d3e7145fe83e16caa0be9a901",
            "max": 590,
            "min": 0,
            "orientation": "horizontal",
            "style": "IPY_MODEL_71b8c8d7cdbf4a648ea758a0b548146d",
            "value": 366
          }
        },
        "4b7eb6b2622e47b3a16fbea2ddeadfd7": {
          "model_module": "@jupyter-widgets/controls",
          "model_module_version": "1.5.0",
          "model_name": "HTMLModel",
          "state": {
            "_dom_classes": [],
            "_model_module": "@jupyter-widgets/controls",
            "_model_module_version": "1.5.0",
            "_model_name": "HTMLModel",
            "_view_count": null,
            "_view_module": "@jupyter-widgets/controls",
            "_view_module_version": "1.5.0",
            "_view_name": "HTMLView",
            "description": "",
            "description_tooltip": null,
            "layout": "IPY_MODEL_0ef618a1d39e4c2484c56feafabcf786",
            "placeholder": "​",
            "style": "IPY_MODEL_64ea9d0b233c434b8136c8e36c0e2089",
            "value": " 366/590 [08:22&lt;05:07,  1.37s/it, Avg_Train_Acc=0.823, Avg_Train_Loss=1.6, Current_Train_Acc=0.906, Current_Train_Loss=0.492, Epoch=0, LR=3e-5]"
          }
        },
        "64ea9d0b233c434b8136c8e36c0e2089": {
          "model_module": "@jupyter-widgets/controls",
          "model_module_version": "1.5.0",
          "model_name": "DescriptionStyleModel",
          "state": {
            "_model_module": "@jupyter-widgets/controls",
            "_model_module_version": "1.5.0",
            "_model_name": "DescriptionStyleModel",
            "_view_count": null,
            "_view_module": "@jupyter-widgets/base",
            "_view_module_version": "1.2.0",
            "_view_name": "StyleView",
            "description_width": ""
          }
        },
        "71b8c8d7cdbf4a648ea758a0b548146d": {
          "model_module": "@jupyter-widgets/controls",
          "model_module_version": "1.5.0",
          "model_name": "ProgressStyleModel",
          "state": {
            "_model_module": "@jupyter-widgets/controls",
            "_model_module_version": "1.5.0",
            "_model_name": "ProgressStyleModel",
            "_view_count": null,
            "_view_module": "@jupyter-widgets/base",
            "_view_module_version": "1.2.0",
            "_view_name": "StyleView",
            "bar_color": null,
            "description_width": "initial"
          }
        },
        "a878518d3e7145fe83e16caa0be9a901": {
          "model_module": "@jupyter-widgets/base",
          "model_module_version": "1.2.0",
          "model_name": "LayoutModel",
          "state": {
            "_model_module": "@jupyter-widgets/base",
            "_model_module_version": "1.2.0",
            "_model_name": "LayoutModel",
            "_view_count": null,
            "_view_module": "@jupyter-widgets/base",
            "_view_module_version": "1.2.0",
            "_view_name": "LayoutView",
            "align_content": null,
            "align_items": null,
            "align_self": null,
            "border": null,
            "bottom": null,
            "display": null,
            "flex": null,
            "flex_flow": null,
            "grid_area": null,
            "grid_auto_columns": null,
            "grid_auto_flow": null,
            "grid_auto_rows": null,
            "grid_column": null,
            "grid_gap": null,
            "grid_row": null,
            "grid_template_areas": null,
            "grid_template_columns": null,
            "grid_template_rows": null,
            "height": null,
            "justify_content": null,
            "justify_items": null,
            "left": null,
            "margin": null,
            "max_height": null,
            "max_width": null,
            "min_height": null,
            "min_width": null,
            "object_fit": null,
            "object_position": null,
            "order": null,
            "overflow": null,
            "overflow_x": null,
            "overflow_y": null,
            "padding": null,
            "right": null,
            "top": null,
            "visibility": null,
            "width": null
          }
        },
        "d49729d3cb7843feb4428c7288c870f3": {
          "model_module": "@jupyter-widgets/controls",
          "model_module_version": "1.5.0",
          "model_name": "HBoxModel",
          "state": {
            "_dom_classes": [],
            "_model_module": "@jupyter-widgets/controls",
            "_model_module_version": "1.5.0",
            "_model_name": "HBoxModel",
            "_view_count": null,
            "_view_module": "@jupyter-widgets/controls",
            "_view_module_version": "1.5.0",
            "_view_name": "HBoxView",
            "box_style": "",
            "children": [
              "IPY_MODEL_1d42f76ce3dc4a2eb2f28ca9b6f8191c",
              "IPY_MODEL_4b7eb6b2622e47b3a16fbea2ddeadfd7"
            ],
            "layout": "IPY_MODEL_e98b6736a7de4023b833bc437d79be14"
          }
        },
        "e98b6736a7de4023b833bc437d79be14": {
          "model_module": "@jupyter-widgets/base",
          "model_module_version": "1.2.0",
          "model_name": "LayoutModel",
          "state": {
            "_model_module": "@jupyter-widgets/base",
            "_model_module_version": "1.2.0",
            "_model_name": "LayoutModel",
            "_view_count": null,
            "_view_module": "@jupyter-widgets/base",
            "_view_module_version": "1.2.0",
            "_view_name": "LayoutView",
            "align_content": null,
            "align_items": null,
            "align_self": null,
            "border": null,
            "bottom": null,
            "display": null,
            "flex": null,
            "flex_flow": null,
            "grid_area": null,
            "grid_auto_columns": null,
            "grid_auto_flow": null,
            "grid_auto_rows": null,
            "grid_column": null,
            "grid_gap": null,
            "grid_row": null,
            "grid_template_areas": null,
            "grid_template_columns": null,
            "grid_template_rows": null,
            "height": null,
            "justify_content": null,
            "justify_items": null,
            "left": null,
            "margin": null,
            "max_height": null,
            "max_width": null,
            "min_height": null,
            "min_width": null,
            "object_fit": null,
            "object_position": null,
            "order": null,
            "overflow": null,
            "overflow_x": null,
            "overflow_y": null,
            "padding": null,
            "right": null,
            "top": null,
            "visibility": null,
            "width": null
          }
        }
      }
    }
  },
  "nbformat": 4,
  "nbformat_minor": 5
}
